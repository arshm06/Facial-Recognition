{
 "cells": [
  {
   "cell_type": "code",
   "execution_count": 1,
   "id": "a1acb584",
   "metadata": {},
   "outputs": [],
   "source": [
    "import pandas as pd\n",
    "import numpy as np\n",
    "import matplotlib.pyplot as plt\n",
    "import statsmodels.api as sm\n",
    "from sklearn.model_selection import train_test_split\n",
    "from sklearn.model_selection import cross_val_score\n",
    "from sklearn.model_selection import KFold\n",
    "from time import time"
   ]
  },
  {
   "cell_type": "code",
   "execution_count": 2,
   "id": "16d5331c",
   "metadata": {},
   "outputs": [],
   "source": [
    "faces = pd.read_csv('FGNet-LOPO.csv')\n",
    "x = faces.drop([\"age\", \"ID\", \"Gender_0M_1F\"], axis = 1)\n",
    "y = faces[[\"age\", \"ID\", \"Gender_0M_1F\"]]\n",
    "x_train, x_test, y_train, y_test = train_test_split(x, y, test_size = .2)\n",
    "scores_5fold = {}\n",
    "dic = {}"
   ]
  },
  {
   "cell_type": "code",
   "execution_count": null,
   "id": "c16b2362",
   "metadata": {},
   "outputs": [],
   "source": []
  },
  {
   "cell_type": "code",
   "execution_count": 3,
   "id": "6e9a91b4",
   "metadata": {},
   "outputs": [],
   "source": [
    "from functools import singledispatchmethod\n",
    "from typing import Generator, Tuple, Union\n",
    "import numpy as np\n",
    "import pandas as pd\n",
    "from sklearn.metrics import mean_absolute_error\n",
    "\n",
    "errors = []\n",
    "errMean = []\n",
    "\n",
    "class LOPOCV:\n",
    "\n",
    "    def __init__(self) -> None:\n",
    "        pass\n",
    "\n",
    "    @singledispatchmethod\n",
    "    def split(self, X, y, groups=None):\n",
    "        raise Exception(\n",
    "            'Both X and y must be either a numpy array or DataFrame.'\n",
    "        )\n",
    "\n",
    "    @split.register\n",
    "    def _(self, X: np.ndarray, y: np.ndarray, groups=None):\n",
    "        ...\n",
    "\n",
    "    @split.register\n",
    "    def _(\n",
    "        self, X: pd.DataFrame, y: Union[pd.DataFrame, pd.Series], groups=None\n",
    "    ) -> Generator[Tuple[pd.DataFrame, pd.DataFrame, pd.DataFrame, pd.DataFrame], None, None]:\n",
    "        Xy = X.join(y)\n",
    "\n",
    "        for id in y['ID'].unique():\n",
    "            split, valset = Xy[Xy['ID'] != id], Xy[Xy['ID'] == id]\n",
    "            yield (\n",
    "                split.loc[:, X.columns],\n",
    "                valset.loc[:, X.columns],\n",
    "                split.loc[:, y.columns],\n",
    "                valset.loc[:, y.columns]\n",
    "            )\n",
    "\n",
    "x = faces.drop([\"age\", \"ID\", \"Gender_0M_1F\"], axis = 1)\n",
    "y = faces[[\"age\", \"ID\", \"Gender_0M_1F\"]]\n",
    "def LOPO(model):\n",
    "    for x_train, x_test, y_train, y_test in LOPOCV().split(x, y):\n",
    "        errors.append(float(model.score(x_test, y_test[\"Gender_0M_1F\"])))\n",
    "    errMean.append(np.mean(errors))\n"
   ]
  },
  {
   "cell_type": "markdown",
   "id": "677e75f9",
   "metadata": {},
   "source": [
    "Logistic Regression"
   ]
  },
  {
   "cell_type": "code",
   "execution_count": 4,
   "id": "3532ba52",
   "metadata": {},
   "outputs": [
    {
     "name": "stdout",
     "output_type": "stream",
     "text": [
      "Accuracy of each fold: \n",
      " [0.73170732 0.725      0.725      0.675      0.725     ]\n",
      "\n",
      "Avg accuracy: 0.7163414634146341\n",
      "\n",
      "0.020833323418597654\n",
      "              precision    recall  f1-score   support\n",
      "\n",
      "           0       0.80      0.89      0.84       110\n",
      "           1       0.85      0.74      0.79        91\n",
      "\n",
      "    accuracy                           0.82       201\n",
      "   macro avg       0.83      0.81      0.82       201\n",
      "weighted avg       0.82      0.82      0.82       201\n",
      "\n",
      "[[98 12]\n",
      " [24 67]]\n"
     ]
    }
   ],
   "source": [
    "from sklearn.linear_model import LogisticRegression\n",
    "from sklearn.metrics import classification_report\n",
    "from sklearn.metrics import confusion_matrix\n",
    "startTime = time()\n",
    "\n",
    "crossvalidation = KFold(n_splits=5, random_state=2, shuffle=True)\n",
    "\n",
    "logReg = LogisticRegression(solver= 'liblinear').fit(x_train, y_train[\"Gender_0M_1F\"])\n",
    "LOPO(logReg)\n",
    "logReg.score(x_test, y_test[\"Gender_0M_1F\"])\n",
    "scores = cross_val_score(logReg, x_test, y_test[\"Gender_0M_1F\"], cv=crossvalidation)\n",
    "dic[\"Logistic Regression\"] = time() - startTime\n",
    "\n",
    "scores_5fold['Logistic Regression'] = {\n",
    "    f'Fold {i}': v for i, v in enumerate(cross_val_score(logReg, x_test, y_test[\"Gender_0M_1F\"], cv=crossvalidation))\n",
    "}\n",
    "\n",
    "print('Accuracy of each fold: \\n {}'.format(scores))\n",
    "print()\n",
    "print(\"Avg accuracy: {}\".format(scores.mean()))\n",
    "\n",
    "y_pred = logReg.predict(x_test)\n",
    "print()\n",
    "print(np.std(scores))\n",
    "print(classification_report(y_test[\"Gender_0M_1F\"], y_pred))\n",
    "print(confusion_matrix(y_test[\"Gender_0M_1F\"], y_pred))"
   ]
  },
  {
   "cell_type": "markdown",
   "id": "89038411",
   "metadata": {},
   "source": [
    "KNN"
   ]
  },
  {
   "cell_type": "code",
   "execution_count": 5,
   "id": "034d1560",
   "metadata": {},
   "outputs": [
    {
     "name": "stdout",
     "output_type": "stream",
     "text": [
      "Accuracy of each fold: \n",
      " [0.65853659 0.55       0.675      0.525      0.475     ]\n",
      "\n",
      "Avg accuracy: 0.5767073170731708\n",
      "\n",
      "0.0775742050383307\n",
      "              precision    recall  f1-score   support\n",
      "\n",
      "           0       0.71      0.66      0.69       110\n",
      "           1       0.62      0.67      0.65        91\n",
      "\n",
      "    accuracy                           0.67       201\n",
      "   macro avg       0.67      0.67      0.67       201\n",
      "weighted avg       0.67      0.67      0.67       201\n",
      "\n",
      "[[73 37]\n",
      " [30 61]]\n"
     ]
    }
   ],
   "source": [
    "from sklearn import neighbors\n",
    "startTime = time()\n",
    "\n",
    "crossvalidation = KFold(n_splits=5, random_state=2, shuffle=True)\n",
    "\n",
    "knn = neighbors.KNeighborsClassifier(n_neighbors = 7).fit(x_train, y_train[\"Gender_0M_1F\"]) \n",
    "LOPO(knn)\n",
    "scores = cross_val_score(knn, x_test, y_test[\"Gender_0M_1F\"], cv=crossvalidation)\n",
    "dic[\"KNN\"] = time() - startTime\n",
    "\n",
    "scores_5fold['KNN'] = {\n",
    "    f'Fold {i}': v for i, v in enumerate(cross_val_score(knn, x_test, y_test[\"Gender_0M_1F\"], cv=crossvalidation))\n",
    "}\n",
    "\n",
    "print('Accuracy of each fold: \\n {}'.format(scores))\n",
    "print()\n",
    "print(\"Avg accuracy: {}\".format(scores.mean()))\n",
    "\n",
    "y_pred = knn.predict(x_test)\n",
    "print()\n",
    "print(np.std(scores))\n",
    "print(classification_report(y_test[\"Gender_0M_1F\"], y_pred))\n",
    "print(confusion_matrix(y_test[\"Gender_0M_1F\"], y_pred))"
   ]
  },
  {
   "cell_type": "code",
   "execution_count": null,
   "id": "6946624e",
   "metadata": {},
   "outputs": [],
   "source": []
  },
  {
   "cell_type": "markdown",
   "id": "20cb0b87",
   "metadata": {},
   "source": [
    "LDA"
   ]
  },
  {
   "cell_type": "code",
   "execution_count": 6,
   "id": "d8aae9b1",
   "metadata": {},
   "outputs": [
    {
     "name": "stdout",
     "output_type": "stream",
     "text": [
      "Accuracy of each fold: \n",
      " [0.7804878 0.575     0.625     0.675     0.65     ]\n",
      "\n",
      "Avg accuracy: 0.6610975609756097\n",
      "\n",
      "0.06824410293037028\n",
      "              precision    recall  f1-score   support\n",
      "\n",
      "           0       0.84      0.88      0.86       110\n",
      "           1       0.85      0.80      0.82        91\n",
      "\n",
      "    accuracy                           0.85       201\n",
      "   macro avg       0.85      0.84      0.84       201\n",
      "weighted avg       0.85      0.85      0.85       201\n",
      "\n",
      "[[97 13]\n",
      " [18 73]]\n"
     ]
    }
   ],
   "source": [
    "from sklearn.discriminant_analysis import LinearDiscriminantAnalysis\n",
    "startTime = time()\n",
    "\n",
    "clf_lda = LinearDiscriminantAnalysis().fit(x_train, y_train[\"Gender_0M_1F\"]) \n",
    "LOPO(clf_lda)\n",
    "crossvalidation = KFold(n_splits=5, random_state=2, shuffle=True)\n",
    "scores = cross_val_score(clf_lda, x_test, y_test[\"Gender_0M_1F\"], cv=crossvalidation)\n",
    "dic[\"LDA\"] = time() - startTime\n",
    "\n",
    "scores_5fold['LDA'] = {\n",
    "    f'Fold {i}': v for i, v in enumerate(cross_val_score(clf_lda, x_test, y_test[\"Gender_0M_1F\"], cv=crossvalidation))\n",
    "}\n",
    "\n",
    "print('Accuracy of each fold: \\n {}'.format(scores))\n",
    "print()\n",
    "print(\"Avg accuracy: {}\".format(scores.mean()))\n",
    "\n",
    "y_pred = clf_lda.predict(x_test)\n",
    "print()\n",
    "print(np.std(scores))\n",
    "print(classification_report(y_test[\"Gender_0M_1F\"], y_pred))\n",
    "print(confusion_matrix(y_test[\"Gender_0M_1F\"], y_pred))"
   ]
  },
  {
   "cell_type": "code",
   "execution_count": null,
   "id": "86b8d921",
   "metadata": {},
   "outputs": [],
   "source": []
  },
  {
   "cell_type": "markdown",
   "id": "59a6aa62",
   "metadata": {},
   "source": [
    "QDA"
   ]
  },
  {
   "cell_type": "code",
   "execution_count": 7,
   "id": "a8da6707",
   "metadata": {},
   "outputs": [
    {
     "name": "stdout",
     "output_type": "stream",
     "text": [
      "Accuracy of each fold: \n",
      " [0.48780488 0.45       0.6        0.475      0.55      ]\n",
      "\n",
      "Avg accuracy: 0.512560975609756\n",
      "\n",
      "0.05474455307710655\n",
      "              precision    recall  f1-score   support\n",
      "\n",
      "           0       0.81      0.92      0.86       110\n",
      "           1       0.88      0.74      0.80        91\n",
      "\n",
      "    accuracy                           0.84       201\n",
      "   macro avg       0.84      0.83      0.83       201\n",
      "weighted avg       0.84      0.84      0.83       201\n",
      "\n",
      "[[101   9]\n",
      " [ 24  67]]\n"
     ]
    },
    {
     "name": "stderr",
     "output_type": "stream",
     "text": [
      "/Users/abc/opt/anaconda3/lib/python3.8/site-packages/sklearn/discriminant_analysis.py:808: UserWarning: Variables are collinear\n",
      "  warnings.warn(\"Variables are collinear\")\n",
      "/Users/abc/opt/anaconda3/lib/python3.8/site-packages/sklearn/discriminant_analysis.py:808: UserWarning: Variables are collinear\n",
      "  warnings.warn(\"Variables are collinear\")\n",
      "/Users/abc/opt/anaconda3/lib/python3.8/site-packages/sklearn/discriminant_analysis.py:808: UserWarning: Variables are collinear\n",
      "  warnings.warn(\"Variables are collinear\")\n",
      "/Users/abc/opt/anaconda3/lib/python3.8/site-packages/sklearn/discriminant_analysis.py:808: UserWarning: Variables are collinear\n",
      "  warnings.warn(\"Variables are collinear\")\n",
      "/Users/abc/opt/anaconda3/lib/python3.8/site-packages/sklearn/discriminant_analysis.py:808: UserWarning: Variables are collinear\n",
      "  warnings.warn(\"Variables are collinear\")\n",
      "/Users/abc/opt/anaconda3/lib/python3.8/site-packages/sklearn/discriminant_analysis.py:808: UserWarning: Variables are collinear\n",
      "  warnings.warn(\"Variables are collinear\")\n",
      "/Users/abc/opt/anaconda3/lib/python3.8/site-packages/sklearn/discriminant_analysis.py:808: UserWarning: Variables are collinear\n",
      "  warnings.warn(\"Variables are collinear\")\n",
      "/Users/abc/opt/anaconda3/lib/python3.8/site-packages/sklearn/discriminant_analysis.py:808: UserWarning: Variables are collinear\n",
      "  warnings.warn(\"Variables are collinear\")\n",
      "/Users/abc/opt/anaconda3/lib/python3.8/site-packages/sklearn/discriminant_analysis.py:808: UserWarning: Variables are collinear\n",
      "  warnings.warn(\"Variables are collinear\")\n",
      "/Users/abc/opt/anaconda3/lib/python3.8/site-packages/sklearn/discriminant_analysis.py:808: UserWarning: Variables are collinear\n",
      "  warnings.warn(\"Variables are collinear\")\n"
     ]
    }
   ],
   "source": [
    "from sklearn.discriminant_analysis import QuadraticDiscriminantAnalysis\n",
    "startTime = time()\n",
    "\n",
    "clf_qda = QuadraticDiscriminantAnalysis().fit(x_train, y_train[\"Gender_0M_1F\"])\n",
    "LOPO(clf_qda)\n",
    "crossvalidation = KFold(n_splits=5, random_state=2, shuffle=True)\n",
    "scores = cross_val_score(clf_qda, x_test, y_test[\"Gender_0M_1F\"], cv=crossvalidation)\n",
    "dic[\"QDA\"] = time() - startTime\n",
    "\n",
    "scores_5fold['QDA'] = {\n",
    "    f'Fold {i}': v for i, v in enumerate(cross_val_score(clf_qda, x_test, y_test[\"Gender_0M_1F\"], cv=crossvalidation))\n",
    "}\n",
    "\n",
    "print('Accuracy of each fold: \\n {}'.format(scores))\n",
    "print()\n",
    "print(\"Avg accuracy: {}\".format(scores.mean()))\n",
    "\n",
    "y_pred = clf_qda.predict(x_test)\n",
    "print()\n",
    "print(np.std(scores))\n",
    "print(classification_report(y_test[\"Gender_0M_1F\"], y_pred))\n",
    "print(confusion_matrix(y_test[\"Gender_0M_1F\"], y_pred))"
   ]
  },
  {
   "cell_type": "code",
   "execution_count": null,
   "id": "0e81133a",
   "metadata": {},
   "outputs": [],
   "source": []
  },
  {
   "cell_type": "markdown",
   "id": "6ea0784b",
   "metadata": {},
   "source": [
    "Decision Tree"
   ]
  },
  {
   "cell_type": "code",
   "execution_count": 8,
   "id": "8b319226",
   "metadata": {},
   "outputs": [
    {
     "name": "stdout",
     "output_type": "stream",
     "text": [
      "Accuracy of each fold: \n",
      " [0.48780488 0.45       0.6        0.475      0.55      ]\n",
      "\n",
      "Avg accuracy: 0.512560975609756\n",
      "\n",
      "0.05474455307710655\n",
      "              precision    recall  f1-score   support\n",
      "\n",
      "           0       0.66      0.64      0.65       110\n",
      "           1       0.58      0.60      0.59        91\n",
      "\n",
      "    accuracy                           0.62       201\n",
      "   macro avg       0.62      0.62      0.62       201\n",
      "weighted avg       0.62      0.62      0.62       201\n",
      "\n",
      "[[70 40]\n",
      " [36 55]]\n"
     ]
    }
   ],
   "source": [
    "from sklearn import tree\n",
    "from sklearn import model_selection\n",
    "\n",
    "startTime = time()\n",
    "leafArray = []\n",
    "\n",
    "clf_tree = tree.DecisionTreeClassifier(max_leaf_nodes = 8, random_state = 2).fit(x_train, y_train[\"Gender_0M_1F\"])\n",
    "LOPO(clf_tree)\n",
    "leafArray.append(np.mean(model_selection.cross_val_score(clf_tree, faces.drop([\"age\", \"ID\", \"Gender_0M_1F\"], axis = 1), faces[[\"Gender_0M_1F\"]], cv=10)))\n",
    "dic[\"Decision Tree\"] = time() - startTime\n",
    "\n",
    "scores_5fold['Decision Tree'] = {\n",
    "    f'Fold {i}': v for i, v in enumerate(cross_val_score(clf_tree, x_test, y_test[\"Gender_0M_1F\"], cv=crossvalidation))\n",
    "}\n",
    "\n",
    "print('Accuracy of each fold: \\n {}'.format(scores))\n",
    "print()\n",
    "print(\"Avg accuracy: {}\".format(scores.mean()))\n",
    "\n",
    "y_pred = clf_tree.predict(x_test)\n",
    "print()\n",
    "print(np.std(scores))\n",
    "print(classification_report(y_test[\"Gender_0M_1F\"], y_pred))\n",
    "print(confusion_matrix(y_test[\"Gender_0M_1F\"], y_pred))"
   ]
  },
  {
   "cell_type": "code",
   "execution_count": null,
   "id": "0a66a62b",
   "metadata": {},
   "outputs": [],
   "source": []
  },
  {
   "cell_type": "markdown",
   "id": "fbca063e",
   "metadata": {},
   "source": [
    "Bagging"
   ]
  },
  {
   "cell_type": "code",
   "execution_count": 9,
   "id": "0be478f4",
   "metadata": {},
   "outputs": [
    {
     "name": "stdout",
     "output_type": "stream",
     "text": [
      "Accuracy of each fold: \n",
      " [0.73170732 0.7        0.65       0.55       0.675     ]\n",
      "\n",
      "Avg accuracy: 0.6613414634146342\n",
      "\n",
      "0.061899825042350844\n",
      "              precision    recall  f1-score   support\n",
      "\n",
      "           0       0.80      0.89      0.84       110\n",
      "           1       0.85      0.74      0.79        91\n",
      "\n",
      "    accuracy                           0.82       201\n",
      "   macro avg       0.83      0.81      0.82       201\n",
      "weighted avg       0.82      0.82      0.82       201\n",
      "\n",
      "[[98 12]\n",
      " [24 67]]\n"
     ]
    }
   ],
   "source": [
    "from sklearn.svm import SVC\n",
    "from sklearn.ensemble import BaggingClassifier\n",
    "from sklearn.datasets import make_classification\n",
    "\n",
    "startTime = time()\n",
    "bag = BaggingClassifier(base_estimator=SVC(), n_estimators=10, random_state=2).fit(x_train, y_train[\"Gender_0M_1F\"])\n",
    "LOPO(bag)\n",
    "\n",
    "scores = cross_val_score(bag, x_test, y_test[\"Gender_0M_1F\"], cv=crossvalidation)\n",
    "dic[\"Bagging\"] = time() - startTime\n",
    "\n",
    "scores_5fold['Bagging'] = {\n",
    "    f'Fold {i}': v for i, v in enumerate(cross_val_score(bag, x_test, y_test[\"Gender_0M_1F\"], cv=crossvalidation))\n",
    "}\n",
    "\n",
    "print('Accuracy of each fold: \\n {}'.format(scores))\n",
    "print()\n",
    "print(\"Avg accuracy: {}\".format(scores.mean()))\n",
    "\n",
    "y_pred = bag.predict(x_test)\n",
    "print()\n",
    "print(np.std(scores))\n",
    "print(classification_report(y_test[\"Gender_0M_1F\"], y_pred))\n",
    "print(confusion_matrix(y_test[\"Gender_0M_1F\"], y_pred))"
   ]
  },
  {
   "cell_type": "code",
   "execution_count": null,
   "id": "24f5fe94",
   "metadata": {},
   "outputs": [],
   "source": []
  },
  {
   "cell_type": "markdown",
   "id": "ca385efb",
   "metadata": {},
   "source": [
    "Random Forrest"
   ]
  },
  {
   "cell_type": "code",
   "execution_count": 10,
   "id": "0629e7b5",
   "metadata": {},
   "outputs": [
    {
     "name": "stdout",
     "output_type": "stream",
     "text": [
      "Accuracy of each fold: \n",
      " [0.6097561 0.7       0.525     0.55      0.6      ]\n",
      "\n",
      "Avg accuracy: 0.5969512195121951\n",
      "\n",
      "0.060288815094186675\n",
      "              precision    recall  f1-score   support\n",
      "\n",
      "           0       0.60      1.00      0.75       110\n",
      "           1       1.00      0.19      0.31        91\n",
      "\n",
      "    accuracy                           0.63       201\n",
      "   macro avg       0.80      0.59      0.53       201\n",
      "weighted avg       0.78      0.63      0.55       201\n",
      "\n",
      "[[110   0]\n",
      " [ 74  17]]\n"
     ]
    }
   ],
   "source": [
    "from sklearn.ensemble import RandomForestClassifier\n",
    "from sklearn.datasets import make_classification\n",
    "\n",
    "startTime = time()\n",
    "rf = RandomForestClassifier(max_depth=2, random_state=2).fit(x_train, y_train[\"Gender_0M_1F\"])\n",
    "LOPO(rf)\n",
    "scores = cross_val_score(rf, x_test, y_test[\"Gender_0M_1F\"], cv=crossvalidation)\n",
    "dic[\"Random Forrest\"] = time() - startTime\n",
    "\n",
    "scores_5fold['Random Forrest'] = {\n",
    "    f'Fold {i}': v for i, v in enumerate(cross_val_score(clf_tree, x_test, y_test[\"Gender_0M_1F\"], cv=crossvalidation))\n",
    "}\n",
    "\n",
    "print('Accuracy of each fold: \\n {}'.format(scores))\n",
    "print()\n",
    "print(\"Avg accuracy: {}\".format(scores.mean()))\n",
    "\n",
    "y_pred = rf.predict(x_test)\n",
    "print()\n",
    "print(np.std(scores))\n",
    "print(classification_report(y_test[\"Gender_0M_1F\"], y_pred))\n",
    "print(confusion_matrix(y_test[\"Gender_0M_1F\"], y_pred))"
   ]
  },
  {
   "cell_type": "code",
   "execution_count": null,
   "id": "e858c907",
   "metadata": {},
   "outputs": [],
   "source": []
  },
  {
   "cell_type": "markdown",
   "id": "698d46f0",
   "metadata": {},
   "source": [
    "Boosting"
   ]
  },
  {
   "cell_type": "code",
   "execution_count": 11,
   "id": "adb1a830",
   "metadata": {},
   "outputs": [
    {
     "name": "stdout",
     "output_type": "stream",
     "text": [
      "Accuracy of each fold: \n",
      " [0.53658537 0.55       0.55       0.55       0.65      ]\n",
      "\n",
      "Avg accuracy: 0.5673170731707317\n",
      "\n",
      "0.041666646837195356\n",
      "              precision    recall  f1-score   support\n",
      "\n",
      "           0       0.73      0.77      0.75       110\n",
      "           1       0.70      0.65      0.67        91\n",
      "\n",
      "    accuracy                           0.72       201\n",
      "   macro avg       0.71      0.71      0.71       201\n",
      "weighted avg       0.72      0.72      0.72       201\n",
      "\n",
      "[[85 25]\n",
      " [32 59]]\n"
     ]
    }
   ],
   "source": [
    "from sklearn.datasets import make_hastie_10_2\n",
    "from sklearn.ensemble import GradientBoostingClassifier\n",
    "\n",
    "startTime = time()\n",
    "boost = GradientBoostingClassifier(n_estimators=100, learning_rate=1.0, max_depth=1, random_state=2).fit(x_train, y_train[\"Gender_0M_1F\"])\n",
    "LOPO(boost)\n",
    "scores = cross_val_score(boost, x_test, y_test[\"Gender_0M_1F\"], cv=crossvalidation)\n",
    "dic[\"Boosting\"] = time() - startTime\n",
    "\n",
    "scores_5fold['Boosting'] = {\n",
    "    f'Fold {i}': v for i, v in enumerate(cross_val_score(boost, x_test, y_test[\"Gender_0M_1F\"], cv=crossvalidation))\n",
    "}\n",
    "\n",
    "print('Accuracy of each fold: \\n {}'.format(scores))\n",
    "print()\n",
    "print(\"Avg accuracy: {}\".format(scores.mean()))\n",
    "\n",
    "y_pred = boost.predict(x_test)\n",
    "print()\n",
    "print(np.std(scores))\n",
    "print(classification_report(y_test[\"Gender_0M_1F\"], y_pred))\n",
    "print(confusion_matrix(y_test[\"Gender_0M_1F\"], y_pred))"
   ]
  },
  {
   "cell_type": "code",
   "execution_count": null,
   "id": "19bfd266",
   "metadata": {},
   "outputs": [],
   "source": []
  },
  {
   "cell_type": "markdown",
   "id": "0bdbd9df",
   "metadata": {},
   "source": [
    "SVM"
   ]
  },
  {
   "cell_type": "code",
   "execution_count": 12,
   "id": "4e864225",
   "metadata": {},
   "outputs": [
    {
     "name": "stdout",
     "output_type": "stream",
     "text": [
      "Accuracy of each fold: \n",
      " [0.70731707 0.75       0.725      0.675      0.725     ]\n",
      "\n",
      "Avg accuracy: 0.7164634146341464\n",
      "\n",
      "0.024792415988389348\n",
      "              precision    recall  f1-score   support\n",
      "\n",
      "           0       0.83      0.91      0.87       110\n",
      "           1       0.88      0.77      0.82        91\n",
      "\n",
      "    accuracy                           0.85       201\n",
      "   macro avg       0.85      0.84      0.84       201\n",
      "weighted avg       0.85      0.85      0.84       201\n",
      "\n",
      "[[100  10]\n",
      " [ 21  70]]\n"
     ]
    }
   ],
   "source": [
    "from sklearn.svm import SVC\n",
    "\n",
    "startTime = time()\n",
    "\n",
    "crossvalidation = KFold(n_splits=5, random_state=2, shuffle=True)\n",
    "svm = SVC(C=1, kernel='linear', random_state=2).fit(x_train, y_train[\"Gender_0M_1F\"])\n",
    "LOPO(svm)\n",
    "scores = cross_val_score(svm, x_test, y_test[\"Gender_0M_1F\"], cv=crossvalidation)\n",
    "dic[\"SVM\"] = time() - startTime\n",
    "\n",
    "scores_5fold['SVM linear'] = {\n",
    "    f'Fold {i}': v for i, v in enumerate(cross_val_score(svm, x_test, y_test[\"Gender_0M_1F\"], cv=crossvalidation))\n",
    "}\n",
    "\n",
    "print('Accuracy of each fold: \\n {}'.format(scores))\n",
    "print()\n",
    "print(\"Avg accuracy: {}\".format(scores.mean()))\n",
    "\n",
    "y_pred = svm.predict(x_test)\n",
    "print()\n",
    "print(np.std(scores))\n",
    "print(classification_report(y_test[\"Gender_0M_1F\"], y_pred))\n",
    "print(confusion_matrix(y_test[\"Gender_0M_1F\"], y_pred))"
   ]
  },
  {
   "cell_type": "code",
   "execution_count": null,
   "id": "cedb5f91",
   "metadata": {},
   "outputs": [],
   "source": []
  },
  {
   "cell_type": "code",
   "execution_count": 13,
   "id": "03b5e00b",
   "metadata": {},
   "outputs": [
    {
     "name": "stdout",
     "output_type": "stream",
     "text": [
      "Accuracy of each fold: \n",
      " [0.58536585 0.6        0.525      0.55       0.475     ]\n",
      "\n",
      "Avg accuracy: 0.5470731707317074\n",
      "\n",
      "0.044627148591789616\n",
      "              precision    recall  f1-score   support\n",
      "\n",
      "           0       0.73      0.77      0.75       110\n",
      "           1       0.70      0.65      0.67        91\n",
      "\n",
      "    accuracy                           0.72       201\n",
      "   macro avg       0.71      0.71      0.71       201\n",
      "weighted avg       0.72      0.72      0.72       201\n",
      "\n",
      "[[85 25]\n",
      " [32 59]]\n"
     ]
    }
   ],
   "source": [
    "startTime = time()\n",
    "\n",
    "crossvalidation = KFold(n_splits=5, random_state=2, shuffle=True)\n",
    "\n",
    "svmRbf = SVC(C=0.01, gamma=2, kernel='rbf').fit(x_train, y_train[\"Gender_0M_1F\"])\n",
    "LOPO(svmRbf)\n",
    "scores = cross_val_score(svmRbf, x_test, y_test[\"Gender_0M_1F\"], cv=crossvalidation)\n",
    "dic[\"SVM RBF\"] = time() - startTime\n",
    "\n",
    "scores_5fold['SVM RBF'] = {\n",
    "    f'Fold {i}': v for i, v in enumerate(cross_val_score(svmRbf, x_test, y_test[\"Gender_0M_1F\"], cv=crossvalidation))\n",
    "}\n",
    "\n",
    "print('Accuracy of each fold: \\n {}'.format(scores))\n",
    "print()\n",
    "print(\"Avg accuracy: {}\".format(scores.mean()))\n",
    "\n",
    "y_pred = boost.predict(x_test)\n",
    "print()\n",
    "print(np.std(scores))\n",
    "print(classification_report(y_test[\"Gender_0M_1F\"], y_pred))\n",
    "print(confusion_matrix(y_test[\"Gender_0M_1F\"], y_pred))"
   ]
  },
  {
   "cell_type": "code",
   "execution_count": null,
   "id": "586d9dca",
   "metadata": {},
   "outputs": [],
   "source": []
  },
  {
   "cell_type": "markdown",
   "id": "65d02092",
   "metadata": {},
   "source": [
    "Graphs"
   ]
  },
  {
   "cell_type": "code",
   "execution_count": 14,
   "id": "f8add398",
   "metadata": {},
   "outputs": [
    {
     "data": {
      "image/png": "[encoded data removed]",
      "text/plain": [
       "<Figure size 1152x648 with 1 Axes>"
      ]
     },
     "metadata": {
      "needs_background": "light"
     },
     "output_type": "display_data"
    }
   ],
   "source": [
    "import seaborn as sns\n",
    "\n",
    "df_5fold = (\n",
    "    pd.DataFrame(\n",
    "        pd.concat(\n",
    "            {k: pd.Series(v) for k, v in scores_5fold.items()},\n",
    "        )\n",
    "    )\n",
    ").reset_index(1).rename({'level_1': 'Fold', 0: 'Score'}, axis=1)\n",
    "\n",
    "plt.figure(figsize=(16,9))\n",
    "sns.set_theme(style='darkgrid', palette='Blues_d')\n",
    "sns.boxplot(x=df_5fold.index, y=df_5fold.Score)\n",
    "sns.despine(offset=10, trim=True)\n",
    "plt.xlabel('Algorithm');\n",
    "plt.ylabel('Score using 5 Fold CV');\n",
    "plt.savefig('SVSM Classifier Score')"
   ]
  },
  {
   "cell_type": "code",
   "execution_count": 15,
   "id": "573b2f99",
   "metadata": {},
   "outputs": [
    {
     "name": "stdout",
     "output_type": "stream",
     "text": [
      "{'Logistic Regression': 0.9010260105133057, 'KNN': 1.1053712368011475, 'LDA': 0.8984999656677246, 'QDA': 0.940270185470581, 'Decision Tree': 1.4603450298309326, 'Bagging': 3.3589489459991455, 'Random Forrest': 3.7663161754608154, 'Boosting': 3.2590479850769043, 'SVM': 1.0349559783935547, 'SVM RBF': 1.2293870449066162}\n"
     ]
    },
    {
     "data": {
      "image/png": "[encoded data removed]",
      "text/plain": [
       "<Figure size 864x864 with 1 Axes>"
      ]
     },
     "metadata": {},
     "output_type": "display_data"
    }
   ],
   "source": [
    "plt.subplots(figsize = (12,12))\n",
    "print(dic)\n",
    "ax = sns.barplot(x = list(dic.keys()), y = list(dic.values()), palette=\"Blues_d\") \n",
    "plt.xlabel('Algorithm')\n",
    "plt.ylabel('Run Time')\n",
    "plt.savefig('SVSM Classifier Running Time')"
   ]
  },
  {
   "cell_type": "code",
   "execution_count": 16,
   "id": "e26d091c",
   "metadata": {},
   "outputs": [
    {
     "data": {
      "image/png": "[encoded data removed]",
      "text/plain": [
       "<Figure size 864x864 with 1 Axes>"
      ]
     },
     "metadata": {},
     "output_type": "display_data"
    }
   ],
   "source": [
    "sensitivity = {'Logistic Regression': 0.710, 'KNN': 0.610, 'LDA': 0.750, 'QDA': 0.950, 'Decision Tree': 0.700, 'Bagging': 0.660, 'Random Forrest': 1.0, 'Boosting': 0.880, 'SVM': 0.730, 'SVM RBF': 0.680}\n",
    "plt.subplots(figsize = (12,12))\n",
    "ax = sns.barplot(x = list(sensitivity.keys()), y = list(sensitivity.values()), palette=\"Blues_d\") \n",
    "plt.xlabel('Algorithm')\n",
    "plt.ylabel('Sensitivity')\n",
    "plt.savefig('SVSM Classifier Sensitivity')"
   ]
  },
  {
   "cell_type": "code",
   "execution_count": 18,
   "id": "58509b67",
   "metadata": {},
   "outputs": [
    {
     "name": "stdout",
     "output_type": "stream",
     "text": [
      "[0.8062185104868033, 0.7811581203349498, 0.8107094802216753, 0.8496887512893612, 0.8280364249571568, 0.8406097600457356, 0.8201290724374348, 0.8345194503159442, 0.8345795784312043, 0.8084386937588156]\n"
     ]
    },
    {
     "data": {
      "image/png": "[encoded data removed]",
      "text/plain": [
       "<Figure size 864x864 with 1 Axes>"
      ]
     },
     "metadata": {},
     "output_type": "display_data"
    }
   ],
   "source": [
    "import seaborn as sns\n",
    "plt.subplots(figsize = (12,12))\n",
    "err = {}\n",
    "print(errMean)\n",
    "xval = ['Logistic Regression', 'KNN', 'LDA', 'QDA', 'Decision Tree', 'Bagging', 'Random Forest', 'Boosting', 'SVM', 'SVM RBF']\n",
    "for index in range(9):\n",
    "    err[xval[index]] = errMean[index]\n",
    "ax = sns.barplot(x = list(err.keys()), y = list(err.values()), palette=\"Blues_d\") \n",
    "plt.xlabel('Algorithm')\n",
    "plt.ylabel('Score Using LOPO')\n",
    "for index, value in enumerate(list(err.values())):\n",
    "    plt.text(index-.25, value+.005,\n",
    "             str(round(value, ndigits = 4)))"
   ]
  },
  {
   "cell_type": "code",
   "execution_count": null,
   "id": "54208cda",
   "metadata": {},
   "outputs": [],
   "source": []
  }
 ],
 "metadata": {
  "kernelspec": {
   "display_name": "Python 3",
   "language": "python",
   "name": "python3"
  },
  "language_info": {
   "codemirror_mode": {
    "name": "ipython",
    "version": 3
   },
   "file_extension": ".py",
   "mimetype": "text/x-python",
   "name": "python",
   "nbconvert_exporter": "python",
   "pygments_lexer": "ipython3",
   "version": "3.8.8"
  }
 },
 "nbformat": 4,
 "nbformat_minor": 5
}
