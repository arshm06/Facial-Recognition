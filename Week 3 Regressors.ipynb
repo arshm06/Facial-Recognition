{
 "cells": [
  {
   "cell_type": "code",
   "execution_count": 1,
   "id": "08074f78",
   "metadata": {},
   "outputs": [],
   "source": [
    "import pandas as pd\n",
    "import numpy as np\n",
    "import matplotlib.pyplot as plt\n",
    "import statsmodels.api as sm\n",
    "from sklearn.model_selection import train_test_split\n",
    "from time import time\n",
    "\n",
    "faces = pd.read_csv('FGNet-LOPO.csv')\n",
    "x = faces.drop([\"age\", \"ID\", \"Gender_0M_1F\"], axis = 1)\n",
    "y = faces[[\"age\", \"ID\", \"Gender_0M_1F\"]]\n",
    "x_train, x_test, y_train, y_test = train_test_split(x, y, test_size = .2, random_state = 2)\n",
    "mae = {}"
   ]
  },
  {
   "cell_type": "code",
   "execution_count": 2,
   "id": "627b5eb1",
   "metadata": {},
   "outputs": [],
   "source": [
    "from functools import singledispatchmethod\n",
    "from typing import Generator, Tuple, Union\n",
    "import numpy as np\n",
    "import pandas as pd\n",
    "from sklearn.metrics import mean_absolute_error\n",
    "\n",
    "errors = []\n",
    "errMean = []\n",
    "\n",
    "class LOPOCV:\n",
    "\n",
    "    def __init__(self) -> None:\n",
    "        pass\n",
    "\n",
    "    @singledispatchmethod\n",
    "    def split(self, X, y, groups=None):\n",
    "        raise Exception(\n",
    "            'Both X and y must be either a numpy array or DataFrame.'\n",
    "        )\n",
    "\n",
    "    @split.register\n",
    "    def _(self, X: np.ndarray, y: np.ndarray, groups=None):\n",
    "        ...\n",
    "\n",
    "    @split.register\n",
    "    def _(\n",
    "        self, X: pd.DataFrame, y: Union[pd.DataFrame, pd.Series], groups=None\n",
    "    ) -> Generator[Tuple[pd.DataFrame, pd.DataFrame, pd.DataFrame, pd.DataFrame], None, None]:\n",
    "        Xy = X.join(y)\n",
    "\n",
    "        for id in y['ID'].unique():\n",
    "            split, valset = Xy[Xy['ID'] != id], Xy[Xy['ID'] == id]\n",
    "            yield (\n",
    "                split.loc[:, X.columns],\n",
    "                valset.loc[:, X.columns],\n",
    "                split.loc[:, y.columns],\n",
    "                valset.loc[:, y.columns]\n",
    "            )\n",
    "\n",
    "x = faces.drop([\"age\", \"ID\", \"Gender_0M_1F\"], axis = 1)\n",
    "y = faces[[\"age\", \"ID\", \"Gender_0M_1F\"]]\n",
    "def LOPO(model):\n",
    "    for x_train, x_test, y_train, y_test in LOPOCV().split(x, y):\n",
    "        y_pred = model.predict(x_test)\n",
    "        errors.append(float(mean_absolute_error(y_test[\"age\"], y_pred)))\n",
    "    errMean.append(np.mean(errors))\n",
    "    "
   ]
  },
  {
   "cell_type": "code",
   "execution_count": 3,
   "id": "2531f896",
   "metadata": {},
   "outputs": [
    {
     "name": "stdout",
     "output_type": "stream",
     "text": [
      "0.06467661691542288\n",
      "[5.78109453]\n"
     ]
    }
   ],
   "source": [
    "from sklearn.linear_model import LinearRegression\n",
    "linReg = LinearRegression().fit(x_train, y_train[\"age\"])\n",
    "LOPO(linReg)\n",
    "score = 0\n",
    "total = 0\n",
    "error = 0\n",
    "for index, row in x_test.iterrows():\n",
    "    row = row.values.reshape(1,-1)\n",
    "    age = np.round(linReg.predict(row))\n",
    "    if age == y_test[\"age\"][index]:\n",
    "        score += 1\n",
    "    else:\n",
    "        error += abs(y_test[\"age\"][index] - age)\n",
    "    total += 1\n",
    "\n",
    "print(score/total)\n",
    "print(error/total)\n",
    "linReg.score(x_test, y_test[\"age\"])\n",
    "mae['Linear Regression'] = float(error/total)"
   ]
  },
  {
   "cell_type": "code",
   "execution_count": null,
   "id": "96f137e9",
   "metadata": {},
   "outputs": [],
   "source": [
    "\n",
    "\n"
   ]
  },
  {
   "cell_type": "code",
   "execution_count": null,
   "id": "737657e4",
   "metadata": {},
   "outputs": [],
   "source": []
  },
  {
   "cell_type": "code",
   "execution_count": null,
   "id": "d6d054bf",
   "metadata": {},
   "outputs": [],
   "source": []
  },
  {
   "cell_type": "code",
   "execution_count": null,
   "id": "59d0983f",
   "metadata": {},
   "outputs": [],
   "source": []
  },
  {
   "cell_type": "code",
   "execution_count": 4,
   "id": "637e59d3",
   "metadata": {},
   "outputs": [
    {
     "data": {
      "text/plain": [
       "0.7148604723824471"
      ]
     },
     "execution_count": 4,
     "metadata": {},
     "output_type": "execute_result"
    }
   ],
   "source": [
    "from sklearn.preprocessing import PolynomialFeatures\n",
    "import sklearn.linear_model as skl_lm\n",
    "poly = PolynomialFeatures(degree=2)\n",
    "X_current = poly.fit_transform(x_train)\n",
    "X_curtest = poly.transform(x_test)\n",
    "lin = skl_lm.LinearRegression().fit(X_current, y_train[\"age\"])\n",
    "lin.score(X_curtest, y_test[\"age\"])"
   ]
  },
  {
   "cell_type": "code",
   "execution_count": null,
   "id": "69d2f9b8",
   "metadata": {},
   "outputs": [],
   "source": []
  },
  {
   "cell_type": "code",
   "execution_count": 5,
   "id": "6f9a3994",
   "metadata": {},
   "outputs": [
    {
     "name": "stdout",
     "output_type": "stream",
     "text": [
      "0.08955223880597014\n",
      "[6.27363184]\n"
     ]
    }
   ],
   "source": [
    "from sklearn.neighbors import KNeighborsRegressor\n",
    "neigh = KNeighborsRegressor(n_neighbors=2).fit(x_train, y_train[\"age\"])\n",
    "LOPO(neigh)\n",
    "\n",
    "score = 0\n",
    "total = 0\n",
    "error = 0\n",
    "for index, row in x_test.iterrows():\n",
    "    row = row.values.reshape(1,-1)\n",
    "    age = np.round(neigh.predict(row))\n",
    "    if age == y_test[\"age\"][index]:\n",
    "        score += 1\n",
    "    else:\n",
    "        error += abs(y_test[\"age\"][index] - age)\n",
    "    total += 1\n",
    "\n",
    "print(score/total)\n",
    "print(error/total)\n",
    "mae['KNN'] = float(error/total)"
   ]
  },
  {
   "cell_type": "code",
   "execution_count": null,
   "id": "7427072a",
   "metadata": {},
   "outputs": [],
   "source": []
  },
  {
   "cell_type": "code",
   "execution_count": 6,
   "id": "5a5d3554",
   "metadata": {},
   "outputs": [
    {
     "name": "stdout",
     "output_type": "stream",
     "text": [
      "0.06467661691542288\n",
      "[7.99004975]\n"
     ]
    },
    {
     "data": {
      "text/plain": [
       "0.2622825372359612"
      ]
     },
     "execution_count": 6,
     "metadata": {},
     "output_type": "execute_result"
    }
   ],
   "source": [
    "from sklearn.tree import DecisionTreeRegressor\n",
    "tree = DecisionTreeRegressor(max_depth=5).fit(x_train, y_train[\"age\"])\n",
    "LOPO(tree)\n",
    "\n",
    "score = 0\n",
    "total = 0\n",
    "error = 0\n",
    "for index, row in x_test.iterrows():\n",
    "    row = row.values.reshape(1,-1)\n",
    "    age = np.round(tree.predict(row))\n",
    "    if age == y_test[\"age\"][index]:\n",
    "        score += 1\n",
    "    else:\n",
    "        error += abs(y_test[\"age\"][index] - age)\n",
    "    total += 1\n",
    "\n",
    "print(score/total)\n",
    "print(error/total)\n",
    "mae['Decision Tree'] = float(error/total)\n",
    "tree.score(x_test, y_test[\"age\"])"
   ]
  },
  {
   "cell_type": "code",
   "execution_count": 7,
   "id": "cc2293dc",
   "metadata": {
    "scrolled": true
   },
   "outputs": [
    {
     "name": "stdout",
     "output_type": "stream",
     "text": [
      "0.06965174129353234\n",
      "[7.21393035]\n"
     ]
    },
    {
     "data": {
      "text/plain": [
       "0.3212317094177056"
      ]
     },
     "execution_count": 7,
     "metadata": {},
     "output_type": "execute_result"
    }
   ],
   "source": [
    "from sklearn.svm import SVR\n",
    "from sklearn.ensemble import BaggingRegressor\n",
    "bag = BaggingRegressor(base_estimator=SVR(), n_estimators=10, random_state=2).fit(x_train, y_train[\"age\"])\n",
    "LOPO(bag)\n",
    "\n",
    "score = 0\n",
    "total = 0\n",
    "error = 0\n",
    "for index, row in x_test.iterrows():\n",
    "    row = row.values.reshape(1,-1)\n",
    "    age = np.round(bag.predict(row))\n",
    "    if age == y_test[\"age\"][index]:\n",
    "        score += 1\n",
    "    else:\n",
    "        error += abs(y_test[\"age\"][index] - age)\n",
    "    total += 1\n",
    "\n",
    "print(score/total)\n",
    "print(error/total)\n",
    "mae['Bagging'] = float(error/total)\n",
    "bag.score(x_test, y_test[\"age\"])"
   ]
  },
  {
   "cell_type": "code",
   "execution_count": null,
   "id": "f3e3ef62",
   "metadata": {},
   "outputs": [],
   "source": []
  },
  {
   "cell_type": "code",
   "execution_count": 8,
   "id": "a9dff5af",
   "metadata": {},
   "outputs": [
    {
     "name": "stdout",
     "output_type": "stream",
     "text": [
      "0.06467661691542288\n",
      "[6.66169154]\n"
     ]
    },
    {
     "data": {
      "text/plain": [
       "0.48669335739587294"
      ]
     },
     "execution_count": 8,
     "metadata": {},
     "output_type": "execute_result"
    }
   ],
   "source": [
    "from sklearn.ensemble import RandomForestRegressor\n",
    "forest = RandomForestRegressor(max_depth=8, random_state=2).fit(x_train, y_train[\"age\"])\n",
    "LOPO(forest)\n",
    "\n",
    "score = 0\n",
    "total = 0\n",
    "error = 0\n",
    "for index, row in x_test.iterrows():\n",
    "    row = row.values.reshape(1,-1)\n",
    "    age = np.round(forest.predict(row))\n",
    "    if age == y_test[\"age\"][index]:\n",
    "        score += 1\n",
    "    else:\n",
    "        error += abs(y_test[\"age\"][index] - age)\n",
    "    total += 1\n",
    "\n",
    "print(score/total)\n",
    "print(error/total)\n",
    "mae['Random Forest'] = float(error/total)\n",
    "forest.score(x_test, y_test[\"age\"])"
   ]
  },
  {
   "cell_type": "code",
   "execution_count": null,
   "id": "c968939d",
   "metadata": {},
   "outputs": [],
   "source": []
  },
  {
   "cell_type": "code",
   "execution_count": 9,
   "id": "53810f8e",
   "metadata": {},
   "outputs": [
    {
     "name": "stdout",
     "output_type": "stream",
     "text": [
      "0.12935323383084577\n",
      "[6.22885572]\n"
     ]
    },
    {
     "data": {
      "text/plain": [
       "0.5509484444163304"
      ]
     },
     "execution_count": 9,
     "metadata": {},
     "output_type": "execute_result"
    }
   ],
   "source": [
    "from sklearn.ensemble import GradientBoostingRegressor\n",
    "boost = GradientBoostingRegressor(random_state=2).fit(x_train, y_train[\"age\"])\n",
    "LOPO(boost)\n",
    "\n",
    "score = 0\n",
    "total = 0\n",
    "error = 0\n",
    "for index, row in x_test.iterrows():\n",
    "    row = row.values.reshape(1,-1)\n",
    "    age = np.round(boost.predict(row))\n",
    "    if age == y_test[\"age\"][index]:\n",
    "        score += 1\n",
    "    else:\n",
    "        error += abs(y_test[\"age\"][index] - age)\n",
    "    total += 1\n",
    "\n",
    "print(score/total)\n",
    "print(error/total)\n",
    "mae['Gradient Boosting'] = float(error/total)\n",
    "boost.score(x_test, y_test[\"age\"])"
   ]
  },
  {
   "cell_type": "code",
   "execution_count": null,
   "id": "2d107a08",
   "metadata": {},
   "outputs": [],
   "source": []
  },
  {
   "cell_type": "code",
   "execution_count": 10,
   "id": "bc25b98b",
   "metadata": {},
   "outputs": [
    {
     "name": "stdout",
     "output_type": "stream",
     "text": [
      "0.06965174129353234\n",
      "[5.52736318]\n"
     ]
    },
    {
     "data": {
      "text/plain": [
       "0.662138828136694"
      ]
     },
     "execution_count": 10,
     "metadata": {},
     "output_type": "execute_result"
    }
   ],
   "source": [
    "from sklearn.linear_model import Ridge\n",
    "clf = Ridge(alpha=1.0).fit(x_train, y_train[\"age\"])\n",
    "LOPO(clf)\n",
    "\n",
    "score = 0\n",
    "total = 0\n",
    "error = 0\n",
    "for index, row in x_test.iterrows():\n",
    "    row = row.values.reshape(1,-1)\n",
    "    age = np.round(clf.predict(row))\n",
    "    if age == y_test[\"age\"][index]:\n",
    "        score += 1\n",
    "    else:\n",
    "        error += abs(y_test[\"age\"][index] - age)\n",
    "    total += 1\n",
    "\n",
    "print(score/total)\n",
    "print(error/total)\n",
    "mae['Ridge'] = float(error/total)\n",
    "clf.score(x_test, y_test[\"age\"])"
   ]
  },
  {
   "cell_type": "code",
   "execution_count": null,
   "id": "034c7bca",
   "metadata": {},
   "outputs": [],
   "source": []
  },
  {
   "cell_type": "code",
   "execution_count": 11,
   "id": "d2cb2822",
   "metadata": {},
   "outputs": [
    {
     "name": "stderr",
     "output_type": "stream",
     "text": [
      "/Users/abc/opt/anaconda3/lib/python3.8/site-packages/sklearn/svm/_base.py:985: ConvergenceWarning: Liblinear failed to converge, increase the number of iterations.\n",
      "  warnings.warn(\"Liblinear failed to converge, increase \"\n"
     ]
    }
   ],
   "source": [
    "from sklearn.svm import LinearSVR\n",
    "from sklearn.pipeline import make_pipeline\n",
    "from sklearn.preprocessing import StandardScaler\n",
    "from sklearn.datasets import make_regression\n",
    "regr = make_pipeline(StandardScaler(), LinearSVR(random_state = 2, tol=1e-5))\n",
    "regr.fit(x_train, y_train[\"age\"])\n",
    "LOPO(regr)\n",
    "y_pred=regr.predict(x_test)\n",
    "mae['SVR Linear'] = float(mean_absolute_error(y_test[\"age\"], y_pred))"
   ]
  },
  {
   "cell_type": "markdown",
   "id": "f8c4d252",
   "metadata": {},
   "source": [
    "from sklearn.decomposition import NMF\n",
    "x_train = x_train.apply(abs)\n",
    "model = NMF(n_components=2, init='random', random_state=2)\n",
    "W = model.fit_transform(x_train, y_train[\"age\"])\n",
    "H = model.components_"
   ]
  },
  {
   "cell_type": "code",
   "execution_count": null,
   "id": "e3942647",
   "metadata": {},
   "outputs": [],
   "source": []
  },
  {
   "cell_type": "code",
   "execution_count": 12,
   "id": "4543b75a",
   "metadata": {},
   "outputs": [
    {
     "data": {
      "image/png": "[encoded data removed]",
      "text/plain": [
       "<Figure size 1008x1008 with 1 Axes>"
      ]
     },
     "metadata": {
      "needs_background": "light"
     },
     "output_type": "display_data"
    }
   ],
   "source": [
    "import seaborn as sns\n",
    "mae['Hierarchical Model'] = 3.482\n",
    "plt.subplots(figsize = (14,14))\n",
    "ax = sns.barplot(x = list(mae.keys()), y = list(mae.values()), palette=\"Blues_d\") \n",
    "plt.xlabel('Algorithm')\n",
    "plt.ylabel('Mean Absolute Error Using Random 80/20 Split')\n",
    "for index, value in enumerate(list(mae.values())):\n",
    "    plt.text(index-.25, value+.02,\n",
    "             str(round(value, ndigits = 4)))\n",
    "    \n",
    "plt.savefig('SVSM Regressor MAE')"
   ]
  },
  {
   "cell_type": "code",
   "execution_count": 13,
   "id": "7290d866",
   "metadata": {},
   "outputs": [
    {
     "name": "stdout",
     "output_type": "stream",
     "text": [
      "dict_keys(['Linear Regression', 'KNN', 'Decision Tree', 'Bagging', 'Random Forest', 'Gradient Boosting', 'Ridge', 'SVR Linear', 'Hierarchical Model'])\n"
     ]
    }
   ],
   "source": [
    "print(mae.keys())"
   ]
  },
  {
   "cell_type": "code",
   "execution_count": 14,
   "id": "3edee3ce",
   "metadata": {
    "scrolled": false
   },
   "outputs": [
    {
     "name": "stdout",
     "output_type": "stream",
     "text": [
      "[4.8806755771800745, 4.408582344677581, 4.909612280048921, 5.218608360164389, 4.980474540827526, 4.6973302026255634, 4.7400741016527945, 4.728143528225074]\n"
     ]
    },
    {
     "data": {
      "image/png": "[encoded data removed]",
      "text/plain": [
       "<Figure size 1008x1008 with 1 Axes>"
      ]
     },
     "metadata": {
      "needs_background": "light"
     },
     "output_type": "display_data"
    }
   ],
   "source": [
    "import seaborn as sns\n",
    "plt.subplots(figsize = (14,14))\n",
    "err = {}\n",
    "print(errMean)\n",
    "xval = ['Linear Regression', 'KNN', 'Decision Tree', 'Bagging', 'Random Forest', 'Gradient Boosting', 'Ridge', 'SVR Linear']\n",
    "for index in range(8):\n",
    "    err[xval[index]] = errMean[index]\n",
    "ax = sns.barplot(x = list(err.keys()), y = list(err.values()), palette=\"Blues_d\") \n",
    "plt.xlabel('Algorithm')\n",
    "plt.ylabel('Mean Absolute Error Using LOPO-CV')\n",
    "for index, value in enumerate(list(err.values())):\n",
    "    plt.text(index-.25, value+.02,\n",
    "             str(round(value, ndigits = 5)))\n"
   ]
  },
  {
   "cell_type": "code",
   "execution_count": null,
   "id": "c4791794",
   "metadata": {},
   "outputs": [],
   "source": []
  }
 ],
 "metadata": {
  "kernelspec": {
   "display_name": "Python 3",
   "language": "python",
   "name": "python3"
  },
  "language_info": {
   "codemirror_mode": {
    "name": "ipython",
    "version": 3
   },
   "file_extension": ".py",
   "mimetype": "text/x-python",
   "name": "python",
   "nbconvert_exporter": "python",
   "pygments_lexer": "ipython3",
   "version": "3.8.8"
  }
 },
 "nbformat": 4,
 "nbformat_minor": 5
}
